{
 "cells": [
  {
   "cell_type": "code",
   "execution_count": 1,
   "metadata": {},
   "outputs": [
    {
     "name": "stdout",
     "output_type": "stream",
     "text": [
      "2.5\n",
      "0.5\n",
      "2.23606797749979\n",
      "2.23606797749979\n"
     ]
    }
   ],
   "source": [
    "from scipy.spatial.distance import euclidean\n",
    "\n",
    "a = [1,2]\n",
    "b = [2,4]\n",
    "c = [2.5, 4]\n",
    "d = [4.5, 5]\n",
    "\n",
    "print(euclidean(c,a))\n",
    "print(euclidean(c,b))\n",
    "print(euclidean(c,d))\n",
    "print(euclidean(a,b))"
   ]
  },
  {
   "cell_type": "code",
   "execution_count": 3,
   "metadata": {},
   "outputs": [
    {
     "name": "stdout",
     "output_type": "stream",
     "text": [
      "0.004504527406047898\n",
      "0.004504527406047898\n",
      "0.015137225946083022\n",
      "0.0\n"
     ]
    }
   ],
   "source": [
    "#more interested in angles\n",
    "#more similar the angle is smaller \n",
    "from scipy.spatial.distance import cosine\n",
    "print(cosine(c,a))\n",
    "print(cosine(c,b))\n",
    "print(cosine(c,d))\n",
    "print(cosine(a,b))"
   ]
  },
  {
   "cell_type": "code",
   "execution_count": null,
   "metadata": {},
   "outputs": [],
   "source": [
    "#model based\n",
    "#k-nearest neighbors\n",
    "#clustering\n",
    "#matrix factorization\n",
    "#deep learning models like autoencoders and using techniques \n",
    "##like embeddings as low-dimensional hidden factors for items and users"
   ]
  },
  {
   "cell_type": "code",
   "execution_count": 4,
   "metadata": {},
   "outputs": [],
   "source": [
    "#Dimensionality Reduction\n",
    "#the user-item matrix two dimensions\n",
    "#users\n",
    "#items\n",
    "\n",
    "#if the matrix is mostly empty reducing dimensions can improve the performance of the algorithm in terms\n",
    "#of space and time\n",
    "\n",
    "#matrix factorization can be seen as breaking down large matrix into a product of smaller ones.\n",
    "#this is similar to factorization of integers, where 12 can be wrrite as 6x 2 or 4x3.  \n",
    "\n",
    "#in this case of matrices a matrrix A with dimensions m xn can be reduced to a product of two matrices X and Y \n",
    "#with dimensions m x p and p x n. \n",
    "\n",
    "#reduced matrices actually represent the users and items individually.  The m rows in the first matrix epersent the m \n",
    "#users and the p columns tell you about features or characteristics of users.\n",
    "\n",
    "#same goes for item matrix with n and p characteristics.  "
   ]
  },
  {
   "cell_type": "code",
   "execution_count": 5,
   "metadata": {},
   "outputs": [],
   "source": [
    "#Recommendation system with Python"
   ]
  },
  {
   "cell_type": "code",
   "execution_count": 45,
   "metadata": {},
   "outputs": [],
   "source": [
    "import numpy as np\n",
    "import pandas as pd\n",
    "import matplotlib.pyplot as plt\n",
    "plt.style.use('fivethirtyeight')\n",
    "import sys\n",
    "import pickle"
   ]
  },
  {
   "cell_type": "code",
   "execution_count": 8,
   "metadata": {},
   "outputs": [],
   "source": [
    "#link to download: https://www.kaggle.com/grouplens/movielens-20m-dataset\n",
    "movies = pd.read_csv('movie.csv')\n",
    "tags = pd.read_csv('tag.csv')\n",
    "ratings = pd.read_csv('rating.csv')"
   ]
  },
  {
   "cell_type": "code",
   "execution_count": 9,
   "metadata": {},
   "outputs": [
    {
     "data": {
      "text/html": [
       "<div>\n",
       "<style scoped>\n",
       "    .dataframe tbody tr th:only-of-type {\n",
       "        vertical-align: middle;\n",
       "    }\n",
       "\n",
       "    .dataframe tbody tr th {\n",
       "        vertical-align: top;\n",
       "    }\n",
       "\n",
       "    .dataframe thead th {\n",
       "        text-align: right;\n",
       "    }\n",
       "</style>\n",
       "<table border=\"1\" class=\"dataframe\">\n",
       "  <thead>\n",
       "    <tr style=\"text-align: right;\">\n",
       "      <th></th>\n",
       "      <th>movieId</th>\n",
       "      <th>title</th>\n",
       "      <th>genres</th>\n",
       "    </tr>\n",
       "  </thead>\n",
       "  <tbody>\n",
       "    <tr>\n",
       "      <th>0</th>\n",
       "      <td>1</td>\n",
       "      <td>Toy Story (1995)</td>\n",
       "      <td>Adventure|Animation|Children|Comedy|Fantasy</td>\n",
       "    </tr>\n",
       "    <tr>\n",
       "      <th>1</th>\n",
       "      <td>2</td>\n",
       "      <td>Jumanji (1995)</td>\n",
       "      <td>Adventure|Children|Fantasy</td>\n",
       "    </tr>\n",
       "    <tr>\n",
       "      <th>2</th>\n",
       "      <td>3</td>\n",
       "      <td>Grumpier Old Men (1995)</td>\n",
       "      <td>Comedy|Romance</td>\n",
       "    </tr>\n",
       "    <tr>\n",
       "      <th>3</th>\n",
       "      <td>4</td>\n",
       "      <td>Waiting to Exhale (1995)</td>\n",
       "      <td>Comedy|Drama|Romance</td>\n",
       "    </tr>\n",
       "    <tr>\n",
       "      <th>4</th>\n",
       "      <td>5</td>\n",
       "      <td>Father of the Bride Part II (1995)</td>\n",
       "      <td>Comedy</td>\n",
       "    </tr>\n",
       "  </tbody>\n",
       "</table>\n",
       "</div>"
      ],
      "text/plain": [
       "   movieId                               title  \\\n",
       "0        1                    Toy Story (1995)   \n",
       "1        2                      Jumanji (1995)   \n",
       "2        3             Grumpier Old Men (1995)   \n",
       "3        4            Waiting to Exhale (1995)   \n",
       "4        5  Father of the Bride Part II (1995)   \n",
       "\n",
       "                                        genres  \n",
       "0  Adventure|Animation|Children|Comedy|Fantasy  \n",
       "1                   Adventure|Children|Fantasy  \n",
       "2                               Comedy|Romance  \n",
       "3                         Comedy|Drama|Romance  \n",
       "4                                       Comedy  "
      ]
     },
     "execution_count": 9,
     "metadata": {},
     "output_type": "execute_result"
    }
   ],
   "source": [
    "movies.head()"
   ]
  },
  {
   "cell_type": "code",
   "execution_count": 10,
   "metadata": {},
   "outputs": [
    {
     "data": {
      "text/html": [
       "<div>\n",
       "<style scoped>\n",
       "    .dataframe tbody tr th:only-of-type {\n",
       "        vertical-align: middle;\n",
       "    }\n",
       "\n",
       "    .dataframe tbody tr th {\n",
       "        vertical-align: top;\n",
       "    }\n",
       "\n",
       "    .dataframe thead th {\n",
       "        text-align: right;\n",
       "    }\n",
       "</style>\n",
       "<table border=\"1\" class=\"dataframe\">\n",
       "  <thead>\n",
       "    <tr style=\"text-align: right;\">\n",
       "      <th></th>\n",
       "      <th>userId</th>\n",
       "      <th>movieId</th>\n",
       "      <th>tag</th>\n",
       "      <th>timestamp</th>\n",
       "    </tr>\n",
       "  </thead>\n",
       "  <tbody>\n",
       "    <tr>\n",
       "      <th>0</th>\n",
       "      <td>18</td>\n",
       "      <td>4141</td>\n",
       "      <td>Mark Waters</td>\n",
       "      <td>2009-04-24 18:19:40</td>\n",
       "    </tr>\n",
       "    <tr>\n",
       "      <th>1</th>\n",
       "      <td>65</td>\n",
       "      <td>208</td>\n",
       "      <td>dark hero</td>\n",
       "      <td>2013-05-10 01:41:18</td>\n",
       "    </tr>\n",
       "    <tr>\n",
       "      <th>2</th>\n",
       "      <td>65</td>\n",
       "      <td>353</td>\n",
       "      <td>dark hero</td>\n",
       "      <td>2013-05-10 01:41:19</td>\n",
       "    </tr>\n",
       "    <tr>\n",
       "      <th>3</th>\n",
       "      <td>65</td>\n",
       "      <td>521</td>\n",
       "      <td>noir thriller</td>\n",
       "      <td>2013-05-10 01:39:43</td>\n",
       "    </tr>\n",
       "    <tr>\n",
       "      <th>4</th>\n",
       "      <td>65</td>\n",
       "      <td>592</td>\n",
       "      <td>dark hero</td>\n",
       "      <td>2013-05-10 01:41:18</td>\n",
       "    </tr>\n",
       "  </tbody>\n",
       "</table>\n",
       "</div>"
      ],
      "text/plain": [
       "   userId  movieId            tag            timestamp\n",
       "0      18     4141    Mark Waters  2009-04-24 18:19:40\n",
       "1      65      208      dark hero  2013-05-10 01:41:18\n",
       "2      65      353      dark hero  2013-05-10 01:41:19\n",
       "3      65      521  noir thriller  2013-05-10 01:39:43\n",
       "4      65      592      dark hero  2013-05-10 01:41:18"
      ]
     },
     "execution_count": 10,
     "metadata": {},
     "output_type": "execute_result"
    }
   ],
   "source": [
    "tags.head()"
   ]
  },
  {
   "cell_type": "code",
   "execution_count": 11,
   "metadata": {},
   "outputs": [
    {
     "data": {
      "text/html": [
       "<div>\n",
       "<style scoped>\n",
       "    .dataframe tbody tr th:only-of-type {\n",
       "        vertical-align: middle;\n",
       "    }\n",
       "\n",
       "    .dataframe tbody tr th {\n",
       "        vertical-align: top;\n",
       "    }\n",
       "\n",
       "    .dataframe thead th {\n",
       "        text-align: right;\n",
       "    }\n",
       "</style>\n",
       "<table border=\"1\" class=\"dataframe\">\n",
       "  <thead>\n",
       "    <tr style=\"text-align: right;\">\n",
       "      <th></th>\n",
       "      <th>userId</th>\n",
       "      <th>movieId</th>\n",
       "      <th>rating</th>\n",
       "      <th>timestamp</th>\n",
       "    </tr>\n",
       "  </thead>\n",
       "  <tbody>\n",
       "    <tr>\n",
       "      <th>0</th>\n",
       "      <td>1</td>\n",
       "      <td>2</td>\n",
       "      <td>3.5</td>\n",
       "      <td>2005-04-02 23:53:47</td>\n",
       "    </tr>\n",
       "    <tr>\n",
       "      <th>1</th>\n",
       "      <td>1</td>\n",
       "      <td>29</td>\n",
       "      <td>3.5</td>\n",
       "      <td>2005-04-02 23:31:16</td>\n",
       "    </tr>\n",
       "    <tr>\n",
       "      <th>2</th>\n",
       "      <td>1</td>\n",
       "      <td>32</td>\n",
       "      <td>3.5</td>\n",
       "      <td>2005-04-02 23:33:39</td>\n",
       "    </tr>\n",
       "    <tr>\n",
       "      <th>3</th>\n",
       "      <td>1</td>\n",
       "      <td>47</td>\n",
       "      <td>3.5</td>\n",
       "      <td>2005-04-02 23:32:07</td>\n",
       "    </tr>\n",
       "    <tr>\n",
       "      <th>4</th>\n",
       "      <td>1</td>\n",
       "      <td>50</td>\n",
       "      <td>3.5</td>\n",
       "      <td>2005-04-02 23:29:40</td>\n",
       "    </tr>\n",
       "  </tbody>\n",
       "</table>\n",
       "</div>"
      ],
      "text/plain": [
       "   userId  movieId  rating            timestamp\n",
       "0       1        2     3.5  2005-04-02 23:53:47\n",
       "1       1       29     3.5  2005-04-02 23:31:16\n",
       "2       1       32     3.5  2005-04-02 23:33:39\n",
       "3       1       47     3.5  2005-04-02 23:32:07\n",
       "4       1       50     3.5  2005-04-02 23:29:40"
      ]
     },
     "execution_count": 11,
     "metadata": {},
     "output_type": "execute_result"
    }
   ],
   "source": [
    "ratings.head()"
   ]
  },
  {
   "cell_type": "code",
   "execution_count": 12,
   "metadata": {},
   "outputs": [],
   "source": [
    "#colaborative filtering "
   ]
  },
  {
   "cell_type": "code",
   "execution_count": 13,
   "metadata": {},
   "outputs": [],
   "source": [
    "movies['genres'] = movies['genres'].str.replace('|', ' ')"
   ]
  },
  {
   "cell_type": "code",
   "execution_count": 14,
   "metadata": {},
   "outputs": [
    {
     "data": {
      "text/plain": [
       "27278"
      ]
     },
     "execution_count": 14,
     "metadata": {},
     "output_type": "execute_result"
    }
   ],
   "source": [
    "len(movies.movieId.unique())"
   ]
  },
  {
   "cell_type": "code",
   "execution_count": 15,
   "metadata": {},
   "outputs": [
    {
     "data": {
      "text/plain": [
       "26744"
      ]
     },
     "execution_count": 15,
     "metadata": {},
     "output_type": "execute_result"
    }
   ],
   "source": [
    "len(ratings.movieId.unique())"
   ]
  },
  {
   "cell_type": "code",
   "execution_count": 19,
   "metadata": {},
   "outputs": [],
   "source": [
    "#limit ratings to user ratings that have rated more than 55 movies\n",
    "#otherwise it becomes impossible to pivot rating dataframe later for collobrative filtering\n",
    "\n",
    "ratings_f = ratings.groupby('userId').filter(lambda x: len(x) >= 55)\n",
    "\n",
    "#list the movie titles that survive the filtering\n",
    "movie_list_rating = ratings_f.movieId.unique().tolist()"
   ]
  },
  {
   "cell_type": "code",
   "execution_count": 20,
   "metadata": {},
   "outputs": [
    {
     "data": {
      "text/plain": [
       "97.85908057775497"
      ]
     },
     "execution_count": 20,
     "metadata": {},
     "output_type": "execute_result"
    }
   ],
   "source": [
    "#no worries: we have kept 978 of the original movie titles in the ratings dataframe\n",
    "len(ratings_f.movieId.unique())/len(movies.movieId.unique()) * 100"
   ]
  },
  {
   "cell_type": "code",
   "execution_count": 21,
   "metadata": {},
   "outputs": [
    {
     "data": {
      "text/plain": [
       "57.797867040211415"
      ]
     },
     "execution_count": 21,
     "metadata": {},
     "output_type": "execute_result"
    }
   ],
   "source": [
    "#but only 57 percent of the users\n",
    "len(ratings_f.userId.unique())/len(ratings.userId.unique()) * 100"
   ]
  },
  {
   "cell_type": "code",
   "execution_count": 23,
   "metadata": {},
   "outputs": [],
   "source": [
    "#filter the movies data frame\n",
    "movies = movies[movies.movieId.isin(movie_list_rating)]"
   ]
  },
  {
   "cell_type": "code",
   "execution_count": 24,
   "metadata": {},
   "outputs": [
    {
     "data": {
      "text/html": [
       "<div>\n",
       "<style scoped>\n",
       "    .dataframe tbody tr th:only-of-type {\n",
       "        vertical-align: middle;\n",
       "    }\n",
       "\n",
       "    .dataframe tbody tr th {\n",
       "        vertical-align: top;\n",
       "    }\n",
       "\n",
       "    .dataframe thead th {\n",
       "        text-align: right;\n",
       "    }\n",
       "</style>\n",
       "<table border=\"1\" class=\"dataframe\">\n",
       "  <thead>\n",
       "    <tr style=\"text-align: right;\">\n",
       "      <th></th>\n",
       "      <th>movieId</th>\n",
       "      <th>title</th>\n",
       "      <th>genres</th>\n",
       "    </tr>\n",
       "  </thead>\n",
       "  <tbody>\n",
       "    <tr>\n",
       "      <th>0</th>\n",
       "      <td>1</td>\n",
       "      <td>Toy Story (1995)</td>\n",
       "      <td>Adventure Animation Children Comedy Fantasy</td>\n",
       "    </tr>\n",
       "    <tr>\n",
       "      <th>1</th>\n",
       "      <td>2</td>\n",
       "      <td>Jumanji (1995)</td>\n",
       "      <td>Adventure Children Fantasy</td>\n",
       "    </tr>\n",
       "    <tr>\n",
       "      <th>2</th>\n",
       "      <td>3</td>\n",
       "      <td>Grumpier Old Men (1995)</td>\n",
       "      <td>Comedy Romance</td>\n",
       "    </tr>\n",
       "    <tr>\n",
       "      <th>3</th>\n",
       "      <td>4</td>\n",
       "      <td>Waiting to Exhale (1995)</td>\n",
       "      <td>Comedy Drama Romance</td>\n",
       "    </tr>\n",
       "    <tr>\n",
       "      <th>4</th>\n",
       "      <td>5</td>\n",
       "      <td>Father of the Bride Part II (1995)</td>\n",
       "      <td>Comedy</td>\n",
       "    </tr>\n",
       "  </tbody>\n",
       "</table>\n",
       "</div>"
      ],
      "text/plain": [
       "   movieId                               title  \\\n",
       "0        1                    Toy Story (1995)   \n",
       "1        2                      Jumanji (1995)   \n",
       "2        3             Grumpier Old Men (1995)   \n",
       "3        4            Waiting to Exhale (1995)   \n",
       "4        5  Father of the Bride Part II (1995)   \n",
       "\n",
       "                                        genres  \n",
       "0  Adventure Animation Children Comedy Fantasy  \n",
       "1                   Adventure Children Fantasy  \n",
       "2                               Comedy Romance  \n",
       "3                         Comedy Drama Romance  \n",
       "4                                       Comedy  "
      ]
     },
     "execution_count": 24,
     "metadata": {},
     "output_type": "execute_result"
    }
   ],
   "source": [
    "movies.head()"
   ]
  },
  {
   "cell_type": "code",
   "execution_count": 25,
   "metadata": {},
   "outputs": [],
   "source": [
    "#map movie id:\n",
    "Mapping_file = dict(zip(movies.title.tolist(), movies.movieId.tolist()))"
   ]
  },
  {
   "cell_type": "code",
   "execution_count": 26,
   "metadata": {},
   "outputs": [],
   "source": [
    "tags.drop(['timestamp'], 1, inplace = True)\n",
    "ratings_f.drop(['timestamp'], 1, inplace = True)"
   ]
  },
  {
   "cell_type": "code",
   "execution_count": 27,
   "metadata": {},
   "outputs": [],
   "source": [
    "#merge the movies and tags dataframe and create a metadata tage for each movie"
   ]
  },
  {
   "cell_type": "code",
   "execution_count": 28,
   "metadata": {},
   "outputs": [],
   "source": [
    "#content based filtering we want to use genre and tags"
   ]
  },
  {
   "cell_type": "code",
   "execution_count": 29,
   "metadata": {},
   "outputs": [
    {
     "data": {
      "text/html": [
       "<div>\n",
       "<style scoped>\n",
       "    .dataframe tbody tr th:only-of-type {\n",
       "        vertical-align: middle;\n",
       "    }\n",
       "\n",
       "    .dataframe tbody tr th {\n",
       "        vertical-align: top;\n",
       "    }\n",
       "\n",
       "    .dataframe thead th {\n",
       "        text-align: right;\n",
       "    }\n",
       "</style>\n",
       "<table border=\"1\" class=\"dataframe\">\n",
       "  <thead>\n",
       "    <tr style=\"text-align: right;\">\n",
       "      <th></th>\n",
       "      <th>movieId</th>\n",
       "      <th>title</th>\n",
       "      <th>genres</th>\n",
       "      <th>userId</th>\n",
       "      <th>tag</th>\n",
       "    </tr>\n",
       "  </thead>\n",
       "  <tbody>\n",
       "    <tr>\n",
       "      <th>0</th>\n",
       "      <td>1</td>\n",
       "      <td>Toy Story (1995)</td>\n",
       "      <td>Adventure Animation Children Comedy Fantasy</td>\n",
       "      <td>1644.0</td>\n",
       "      <td>Watched</td>\n",
       "    </tr>\n",
       "    <tr>\n",
       "      <th>1</th>\n",
       "      <td>1</td>\n",
       "      <td>Toy Story (1995)</td>\n",
       "      <td>Adventure Animation Children Comedy Fantasy</td>\n",
       "      <td>1741.0</td>\n",
       "      <td>computer animation</td>\n",
       "    </tr>\n",
       "    <tr>\n",
       "      <th>2</th>\n",
       "      <td>1</td>\n",
       "      <td>Toy Story (1995)</td>\n",
       "      <td>Adventure Animation Children Comedy Fantasy</td>\n",
       "      <td>1741.0</td>\n",
       "      <td>Disney animated feature</td>\n",
       "    </tr>\n",
       "  </tbody>\n",
       "</table>\n",
       "</div>"
      ],
      "text/plain": [
       "   movieId             title                                       genres  \\\n",
       "0        1  Toy Story (1995)  Adventure Animation Children Comedy Fantasy   \n",
       "1        1  Toy Story (1995)  Adventure Animation Children Comedy Fantasy   \n",
       "2        1  Toy Story (1995)  Adventure Animation Children Comedy Fantasy   \n",
       "\n",
       "   userId                      tag  \n",
       "0  1644.0                  Watched  \n",
       "1  1741.0       computer animation  \n",
       "2  1741.0  Disney animated feature  "
      ]
     },
     "execution_count": 29,
     "metadata": {},
     "output_type": "execute_result"
    }
   ],
   "source": [
    "#create a mixed dataframe of movies title, genres\n",
    "#and all user tags given to each movie\n",
    "mixed = pd.merge(movies, tags, on = 'movieId', how = 'left')\n",
    "mixed.head(3)"
   ]
  },
  {
   "cell_type": "code",
   "execution_count": 35,
   "metadata": {},
   "outputs": [
    {
     "data": {
      "text/html": [
       "<div>\n",
       "<style scoped>\n",
       "    .dataframe tbody tr th:only-of-type {\n",
       "        vertical-align: middle;\n",
       "    }\n",
       "\n",
       "    .dataframe tbody tr th {\n",
       "        vertical-align: top;\n",
       "    }\n",
       "\n",
       "    .dataframe thead th {\n",
       "        text-align: right;\n",
       "    }\n",
       "</style>\n",
       "<table border=\"1\" class=\"dataframe\">\n",
       "  <thead>\n",
       "    <tr style=\"text-align: right;\">\n",
       "      <th></th>\n",
       "      <th>movieId</th>\n",
       "      <th>title</th>\n",
       "      <th>metadata</th>\n",
       "    </tr>\n",
       "  </thead>\n",
       "  <tbody>\n",
       "    <tr>\n",
       "      <th>0</th>\n",
       "      <td>1</td>\n",
       "      <td>Toy Story (1995)</td>\n",
       "      <td>Watched computer animation Disney animated fea...</td>\n",
       "    </tr>\n",
       "    <tr>\n",
       "      <th>1</th>\n",
       "      <td>2</td>\n",
       "      <td>Jumanji (1995)</td>\n",
       "      <td>time travel adapted from:book board game child...</td>\n",
       "    </tr>\n",
       "    <tr>\n",
       "      <th>2</th>\n",
       "      <td>3</td>\n",
       "      <td>Grumpier Old Men (1995)</td>\n",
       "      <td>old people that is actually funny sequel fever...</td>\n",
       "    </tr>\n",
       "  </tbody>\n",
       "</table>\n",
       "</div>"
      ],
      "text/plain": [
       "   movieId                    title  \\\n",
       "0        1         Toy Story (1995)   \n",
       "1        2           Jumanji (1995)   \n",
       "2        3  Grumpier Old Men (1995)   \n",
       "\n",
       "                                            metadata  \n",
       "0  Watched computer animation Disney animated fea...  \n",
       "1  time travel adapted from:book board game child...  \n",
       "2  old people that is actually funny sequel fever...  "
      ]
     },
     "execution_count": 35,
     "metadata": {},
     "output_type": "execute_result"
    }
   ],
   "source": [
    "#create metadata from tags and genres \n",
    "mixed.fillna('', inplace = True)\n",
    "mixed = pd.DataFrame(mixed.groupby('movieId')['tag'].apply(lambda x: '%s' % ' '.join(x)))\n",
    "Final = pd.merge(movies, mixed, on = 'movieId', how = 'left')\n",
    "Final['metadata'] = Final[['tag', 'genres']].apply(lambda x: ' '.join(x), axis = 1)\n",
    "Final[['movieId', 'title', 'metadata']].head(3)"
   ]
  },
  {
   "cell_type": "code",
   "execution_count": 36,
   "metadata": {},
   "outputs": [
    {
     "data": {
      "text/plain": [
       "(26694, 5)"
      ]
     },
     "execution_count": 36,
     "metadata": {},
     "output_type": "execute_result"
    }
   ],
   "source": [
    "Final.shape"
   ]
  },
  {
   "cell_type": "code",
   "execution_count": 37,
   "metadata": {},
   "outputs": [],
   "source": [
    "#creating a content latent matrix from movie metadata:\n",
    "\n",
    "#tf-idf vectors and truncated SVD:"
   ]
  },
  {
   "cell_type": "code",
   "execution_count": 38,
   "metadata": {},
   "outputs": [
    {
     "name": "stdout",
     "output_type": "stream",
     "text": [
      "(26694, 23704)\n"
     ]
    }
   ],
   "source": [
    "from sklearn.feature_extraction.text import TfidfVectorizer\n",
    "tfidf = TfidfVectorizer(stop_words = 'english')\n",
    "tfidf_matrix = tfidf.fit_transform(Final['metadata'])\n",
    "tfidf_df = pd.DataFrame(tfidf_matrix.toarray(), index = Final.index.tolist())\n",
    "print(tfidf_df.shape)"
   ]
  },
  {
   "cell_type": "code",
   "execution_count": 41,
   "metadata": {},
   "outputs": [],
   "source": [
    "#first 200 components explain 50 percent of the variance \n",
    "#compress with svd\n",
    "from sklearn.decomposition import TruncatedSVD\n",
    "svd = TruncatedSVD(n_components = 200)\n",
    "latent_matrix = svd.fit_transform(tfidf_df)\n",
    "explained = svd.explained_variance_ratio_.cumsum()"
   ]
  },
  {
   "cell_type": "code",
   "execution_count": 46,
   "metadata": {},
   "outputs": [
    {
     "data": {
      "image/png": "[encoded data removed]",
      "text/plain": [
       "<Figure size 432x288 with 1 Axes>"
      ]
     },
     "metadata": {},
     "output_type": "display_data"
    }
   ],
   "source": [
    "#plot var explained to see what latent dimensions to use\n",
    "plt.plot(explained, '.-', ms = 16, color = 'red')\n",
    "plt.xlabel('Singular value components', fontsize = 12)\n",
    "plt.ylabel('Cumulative percent of variance', fontsize = 12)\n",
    "plt.show()"
   ]
  },
  {
   "cell_type": "code",
   "execution_count": 47,
   "metadata": {},
   "outputs": [],
   "source": [
    "#number of latent dimensions to keep\n",
    "n = 200\n",
    "latent_matrix_1_df = pd.DataFrame(latent_matrix[:,0:n], index = Final.title.tolist())"
   ]
  },
  {
   "cell_type": "code",
   "execution_count": 48,
   "metadata": {},
   "outputs": [
    {
     "data": {
      "text/plain": [
       "(26694, 200)"
      ]
     },
     "execution_count": 48,
     "metadata": {},
     "output_type": "execute_result"
    }
   ],
   "source": [
    "#our content latent matrix:\n",
    "latent_matrix.shape"
   ]
  },
  {
   "cell_type": "code",
   "execution_count": 49,
   "metadata": {},
   "outputs": [
    {
     "data": {
      "text/html": [
       "<div>\n",
       "<style scoped>\n",
       "    .dataframe tbody tr th:only-of-type {\n",
       "        vertical-align: middle;\n",
       "    }\n",
       "\n",
       "    .dataframe tbody tr th {\n",
       "        vertical-align: top;\n",
       "    }\n",
       "\n",
       "    .dataframe thead th {\n",
       "        text-align: right;\n",
       "    }\n",
       "</style>\n",
       "<table border=\"1\" class=\"dataframe\">\n",
       "  <thead>\n",
       "    <tr style=\"text-align: right;\">\n",
       "      <th></th>\n",
       "      <th>userId</th>\n",
       "      <th>movieId</th>\n",
       "      <th>rating</th>\n",
       "    </tr>\n",
       "  </thead>\n",
       "  <tbody>\n",
       "    <tr>\n",
       "      <th>0</th>\n",
       "      <td>1</td>\n",
       "      <td>2</td>\n",
       "      <td>3.5</td>\n",
       "    </tr>\n",
       "    <tr>\n",
       "      <th>1</th>\n",
       "      <td>1</td>\n",
       "      <td>29</td>\n",
       "      <td>3.5</td>\n",
       "    </tr>\n",
       "    <tr>\n",
       "      <th>2</th>\n",
       "      <td>1</td>\n",
       "      <td>32</td>\n",
       "      <td>3.5</td>\n",
       "    </tr>\n",
       "    <tr>\n",
       "      <th>3</th>\n",
       "      <td>1</td>\n",
       "      <td>47</td>\n",
       "      <td>3.5</td>\n",
       "    </tr>\n",
       "    <tr>\n",
       "      <th>4</th>\n",
       "      <td>1</td>\n",
       "      <td>50</td>\n",
       "      <td>3.5</td>\n",
       "    </tr>\n",
       "  </tbody>\n",
       "</table>\n",
       "</div>"
      ],
      "text/plain": [
       "   userId  movieId  rating\n",
       "0       1        2     3.5\n",
       "1       1       29     3.5\n",
       "2       1       32     3.5\n",
       "3       1       47     3.5\n",
       "4       1       50     3.5"
      ]
     },
     "execution_count": 49,
     "metadata": {},
     "output_type": "execute_result"
    }
   ],
   "source": [
    "#create a collaborative latent matrix from user rating\n",
    "ratings_f.head()"
   ]
  },
  {
   "cell_type": "code",
   "execution_count": 51,
   "metadata": {},
   "outputs": [],
   "source": [
    "ratings_f1 = pd.merge(movies[['movieId']], ratings_f, on = 'movieId', how = 'right')"
   ]
  },
  {
   "cell_type": "code",
   "execution_count": 53,
   "metadata": {},
   "outputs": [],
   "source": [
    "ratings_f2 = ratings_f1.pivot(index = 'movieId', columns = 'userId', values = 'rating').fillna(0)"
   ]
  },
  {
   "cell_type": "code",
   "execution_count": 54,
   "metadata": {},
   "outputs": [
    {
     "data": {
      "text/html": [
       "<div>\n",
       "<style scoped>\n",
       "    .dataframe tbody tr th:only-of-type {\n",
       "        vertical-align: middle;\n",
       "    }\n",
       "\n",
       "    .dataframe tbody tr th {\n",
       "        vertical-align: top;\n",
       "    }\n",
       "\n",
       "    .dataframe thead th {\n",
       "        text-align: right;\n",
       "    }\n",
       "</style>\n",
       "<table border=\"1\" class=\"dataframe\">\n",
       "  <thead>\n",
       "    <tr style=\"text-align: right;\">\n",
       "      <th>userId</th>\n",
       "      <th>1</th>\n",
       "      <th>2</th>\n",
       "      <th>3</th>\n",
       "      <th>5</th>\n",
       "      <th>7</th>\n",
       "      <th>8</th>\n",
       "      <th>11</th>\n",
       "      <th>13</th>\n",
       "      <th>14</th>\n",
       "      <th>16</th>\n",
       "      <th>...</th>\n",
       "      <th>138474</th>\n",
       "      <th>138475</th>\n",
       "      <th>138477</th>\n",
       "      <th>138483</th>\n",
       "      <th>138484</th>\n",
       "      <th>138486</th>\n",
       "      <th>138487</th>\n",
       "      <th>138490</th>\n",
       "      <th>138492</th>\n",
       "      <th>138493</th>\n",
       "    </tr>\n",
       "    <tr>\n",
       "      <th>movieId</th>\n",
       "      <th></th>\n",
       "      <th></th>\n",
       "      <th></th>\n",
       "      <th></th>\n",
       "      <th></th>\n",
       "      <th></th>\n",
       "      <th></th>\n",
       "      <th></th>\n",
       "      <th></th>\n",
       "      <th></th>\n",
       "      <th></th>\n",
       "      <th></th>\n",
       "      <th></th>\n",
       "      <th></th>\n",
       "      <th></th>\n",
       "      <th></th>\n",
       "      <th></th>\n",
       "      <th></th>\n",
       "      <th></th>\n",
       "      <th></th>\n",
       "      <th></th>\n",
       "    </tr>\n",
       "  </thead>\n",
       "  <tbody>\n",
       "    <tr>\n",
       "      <th>1</th>\n",
       "      <td>0.0</td>\n",
       "      <td>0.0</td>\n",
       "      <td>4.0</td>\n",
       "      <td>0.0</td>\n",
       "      <td>0.0</td>\n",
       "      <td>4.0</td>\n",
       "      <td>4.5</td>\n",
       "      <td>4.0</td>\n",
       "      <td>4.5</td>\n",
       "      <td>3.0</td>\n",
       "      <td>...</td>\n",
       "      <td>5.0</td>\n",
       "      <td>0.0</td>\n",
       "      <td>3.0</td>\n",
       "      <td>4.0</td>\n",
       "      <td>0.0</td>\n",
       "      <td>5.0</td>\n",
       "      <td>0.0</td>\n",
       "      <td>0.0</td>\n",
       "      <td>0.0</td>\n",
       "      <td>3.5</td>\n",
       "    </tr>\n",
       "    <tr>\n",
       "      <th>2</th>\n",
       "      <td>3.5</td>\n",
       "      <td>0.0</td>\n",
       "      <td>0.0</td>\n",
       "      <td>3.0</td>\n",
       "      <td>0.0</td>\n",
       "      <td>0.0</td>\n",
       "      <td>0.0</td>\n",
       "      <td>3.0</td>\n",
       "      <td>0.0</td>\n",
       "      <td>0.0</td>\n",
       "      <td>...</td>\n",
       "      <td>4.0</td>\n",
       "      <td>0.0</td>\n",
       "      <td>0.0</td>\n",
       "      <td>3.0</td>\n",
       "      <td>3.0</td>\n",
       "      <td>0.0</td>\n",
       "      <td>0.0</td>\n",
       "      <td>0.0</td>\n",
       "      <td>0.0</td>\n",
       "      <td>4.0</td>\n",
       "    </tr>\n",
       "    <tr>\n",
       "      <th>3</th>\n",
       "      <td>0.0</td>\n",
       "      <td>4.0</td>\n",
       "      <td>0.0</td>\n",
       "      <td>0.0</td>\n",
       "      <td>3.0</td>\n",
       "      <td>5.0</td>\n",
       "      <td>0.0</td>\n",
       "      <td>0.0</td>\n",
       "      <td>0.0</td>\n",
       "      <td>0.0</td>\n",
       "      <td>...</td>\n",
       "      <td>0.0</td>\n",
       "      <td>0.0</td>\n",
       "      <td>0.0</td>\n",
       "      <td>0.0</td>\n",
       "      <td>4.0</td>\n",
       "      <td>0.0</td>\n",
       "      <td>0.0</td>\n",
       "      <td>0.0</td>\n",
       "      <td>0.0</td>\n",
       "      <td>0.0</td>\n",
       "    </tr>\n",
       "  </tbody>\n",
       "</table>\n",
       "<p>3 rows × 80046 columns</p>\n",
       "</div>"
      ],
      "text/plain": [
       "userId   1       2       3       5       7       8       11      13      \\\n",
       "movieId                                                                   \n",
       "1           0.0     0.0     4.0     0.0     0.0     4.0     4.5     4.0   \n",
       "2           3.5     0.0     0.0     3.0     0.0     0.0     0.0     3.0   \n",
       "3           0.0     4.0     0.0     0.0     3.0     5.0     0.0     0.0   \n",
       "\n",
       "userId   14      16      ...  138474  138475  138477  138483  138484  138486  \\\n",
       "movieId                  ...                                                   \n",
       "1           4.5     3.0  ...     5.0     0.0     3.0     4.0     0.0     5.0   \n",
       "2           0.0     0.0  ...     4.0     0.0     0.0     3.0     3.0     0.0   \n",
       "3           0.0     0.0  ...     0.0     0.0     0.0     0.0     4.0     0.0   \n",
       "\n",
       "userId   138487  138490  138492  138493  \n",
       "movieId                                  \n",
       "1           0.0     0.0     0.0     3.5  \n",
       "2           0.0     0.0     0.0     4.0  \n",
       "3           0.0     0.0     0.0     0.0  \n",
       "\n",
       "[3 rows x 80046 columns]"
      ]
     },
     "execution_count": 54,
     "metadata": {},
     "output_type": "execute_result"
    }
   ],
   "source": [
    "ratings_f2.head(3)"
   ]
  },
  {
   "cell_type": "code",
   "execution_count": 55,
   "metadata": {},
   "outputs": [
    {
     "data": {
      "text/plain": [
       "(26694, 80046)"
      ]
     },
     "execution_count": 55,
     "metadata": {},
     "output_type": "execute_result"
    }
   ],
   "source": [
    "ratings_f2.shape"
   ]
  },
  {
   "cell_type": "code",
   "execution_count": 56,
   "metadata": {},
   "outputs": [
    {
     "data": {
      "text/plain": [
       "26694"
      ]
     },
     "execution_count": 56,
     "metadata": {},
     "output_type": "execute_result"
    }
   ],
   "source": [
    "len(ratings_f.movieId.unique())"
   ]
  },
  {
   "cell_type": "code",
   "execution_count": 57,
   "metadata": {},
   "outputs": [],
   "source": [
    "from sklearn.decomposition import TruncatedSVD\n",
    "svd = TruncatedSVD(n_components = 200)\n",
    "latent_matrix_2 = svd.fit_transform(ratings_f2)\n",
    "latent_matrix_2_df = pd.DataFrame(latent_matrix_2, index = Final.title.tolist())"
   ]
  },
  {
   "cell_type": "code",
   "execution_count": 58,
   "metadata": {},
   "outputs": [
    {
     "data": {
      "text/plain": [
       "(26694, 200)"
      ]
     },
     "execution_count": 58,
     "metadata": {},
     "output_type": "execute_result"
    }
   ],
   "source": [
    "latent_matrix_2_df.shape"
   ]
  },
  {
   "cell_type": "code",
   "execution_count": 59,
   "metadata": {},
   "outputs": [
    {
     "data": {
      "image/png": "[encoded data removed]",
      "text/plain": [
       "<Figure size 432x288 with 1 Axes>"
      ]
     },
     "metadata": {},
     "output_type": "display_data"
    }
   ],
   "source": [
    "#plot variance explained to see what latent dimensions to sue\n",
    "explaned = svd.explained_variance_ratio_.cumsum()\n",
    "plt.plot(explained, '.-', ms = 16, color = 'red')\n",
    "plt.xlabel('Singular Value components', fontsize = 12)\n",
    "plt.ylabel('Cumulative percent of variance', fontsize = 12)\n",
    "plt.show()"
   ]
  },
  {
   "cell_type": "code",
   "execution_count": 60,
   "metadata": {},
   "outputs": [],
   "source": [
    "#running a content/collaborative and hybrid consine Similiarity"
   ]
  },
  {
   "cell_type": "code",
   "execution_count": 64,
   "metadata": {},
   "outputs": [
    {
     "data": {
      "text/html": [
       "<div>\n",
       "<style scoped>\n",
       "    .dataframe tbody tr th:only-of-type {\n",
       "        vertical-align: middle;\n",
       "    }\n",
       "\n",
       "    .dataframe tbody tr th {\n",
       "        vertical-align: top;\n",
       "    }\n",
       "\n",
       "    .dataframe thead th {\n",
       "        text-align: right;\n",
       "    }\n",
       "</style>\n",
       "<table border=\"1\" class=\"dataframe\">\n",
       "  <thead>\n",
       "    <tr style=\"text-align: right;\">\n",
       "      <th></th>\n",
       "      <th>0</th>\n",
       "      <th>1</th>\n",
       "      <th>2</th>\n",
       "      <th>3</th>\n",
       "      <th>4</th>\n",
       "      <th>5</th>\n",
       "      <th>6</th>\n",
       "      <th>7</th>\n",
       "      <th>8</th>\n",
       "      <th>9</th>\n",
       "      <th>...</th>\n",
       "      <th>190</th>\n",
       "      <th>191</th>\n",
       "      <th>192</th>\n",
       "      <th>193</th>\n",
       "      <th>194</th>\n",
       "      <th>195</th>\n",
       "      <th>196</th>\n",
       "      <th>197</th>\n",
       "      <th>198</th>\n",
       "      <th>199</th>\n",
       "    </tr>\n",
       "  </thead>\n",
       "  <tbody>\n",
       "    <tr>\n",
       "      <th>Toy Story (1995)</th>\n",
       "      <td>0.026804</td>\n",
       "      <td>0.052404</td>\n",
       "      <td>0.019479</td>\n",
       "      <td>0.003361</td>\n",
       "      <td>0.004004</td>\n",
       "      <td>-0.024907</td>\n",
       "      <td>0.115090</td>\n",
       "      <td>0.012749</td>\n",
       "      <td>-0.001627</td>\n",
       "      <td>0.103939</td>\n",
       "      <td>...</td>\n",
       "      <td>0.015711</td>\n",
       "      <td>-0.036389</td>\n",
       "      <td>-0.083300</td>\n",
       "      <td>-0.109280</td>\n",
       "      <td>0.090503</td>\n",
       "      <td>-0.094835</td>\n",
       "      <td>0.008426</td>\n",
       "      <td>0.066666</td>\n",
       "      <td>-0.007300</td>\n",
       "      <td>-0.053103</td>\n",
       "    </tr>\n",
       "    <tr>\n",
       "      <th>Jumanji (1995)</th>\n",
       "      <td>0.010512</td>\n",
       "      <td>0.010537</td>\n",
       "      <td>0.025846</td>\n",
       "      <td>0.000882</td>\n",
       "      <td>0.013254</td>\n",
       "      <td>-0.001140</td>\n",
       "      <td>0.068154</td>\n",
       "      <td>0.012675</td>\n",
       "      <td>0.006184</td>\n",
       "      <td>0.050531</td>\n",
       "      <td>...</td>\n",
       "      <td>0.012587</td>\n",
       "      <td>0.012203</td>\n",
       "      <td>0.002653</td>\n",
       "      <td>0.081598</td>\n",
       "      <td>0.008884</td>\n",
       "      <td>0.064113</td>\n",
       "      <td>0.001018</td>\n",
       "      <td>-0.039501</td>\n",
       "      <td>0.026265</td>\n",
       "      <td>-0.016436</td>\n",
       "    </tr>\n",
       "    <tr>\n",
       "      <th>Grumpier Old Men (1995)</th>\n",
       "      <td>0.038827</td>\n",
       "      <td>0.073948</td>\n",
       "      <td>-0.004930</td>\n",
       "      <td>-0.001323</td>\n",
       "      <td>0.031760</td>\n",
       "      <td>0.002476</td>\n",
       "      <td>-0.003612</td>\n",
       "      <td>-0.001630</td>\n",
       "      <td>-0.000253</td>\n",
       "      <td>0.000645</td>\n",
       "      <td>...</td>\n",
       "      <td>0.002476</td>\n",
       "      <td>0.003581</td>\n",
       "      <td>0.000435</td>\n",
       "      <td>-0.007534</td>\n",
       "      <td>-0.007311</td>\n",
       "      <td>-0.007432</td>\n",
       "      <td>0.003852</td>\n",
       "      <td>-0.002291</td>\n",
       "      <td>0.012141</td>\n",
       "      <td>-0.000764</td>\n",
       "    </tr>\n",
       "    <tr>\n",
       "      <th>Waiting to Exhale (1995)</th>\n",
       "      <td>0.136327</td>\n",
       "      <td>0.077169</td>\n",
       "      <td>-0.020606</td>\n",
       "      <td>-0.002103</td>\n",
       "      <td>0.101073</td>\n",
       "      <td>0.012071</td>\n",
       "      <td>-0.012106</td>\n",
       "      <td>-0.002062</td>\n",
       "      <td>-0.004896</td>\n",
       "      <td>-0.002583</td>\n",
       "      <td>...</td>\n",
       "      <td>-0.001156</td>\n",
       "      <td>-0.023063</td>\n",
       "      <td>-0.010050</td>\n",
       "      <td>0.001625</td>\n",
       "      <td>0.047620</td>\n",
       "      <td>0.054509</td>\n",
       "      <td>-0.066109</td>\n",
       "      <td>0.024686</td>\n",
       "      <td>-0.001895</td>\n",
       "      <td>-0.114583</td>\n",
       "    </tr>\n",
       "    <tr>\n",
       "      <th>Father of the Bride Part II (1995)</th>\n",
       "      <td>0.038644</td>\n",
       "      <td>0.084084</td>\n",
       "      <td>0.000456</td>\n",
       "      <td>0.000029</td>\n",
       "      <td>-0.013619</td>\n",
       "      <td>0.000075</td>\n",
       "      <td>0.013468</td>\n",
       "      <td>-0.000218</td>\n",
       "      <td>0.008462</td>\n",
       "      <td>0.013971</td>\n",
       "      <td>...</td>\n",
       "      <td>0.011215</td>\n",
       "      <td>0.008193</td>\n",
       "      <td>-0.015889</td>\n",
       "      <td>-0.003665</td>\n",
       "      <td>-0.005078</td>\n",
       "      <td>0.024281</td>\n",
       "      <td>-0.025536</td>\n",
       "      <td>0.004729</td>\n",
       "      <td>-0.032317</td>\n",
       "      <td>-0.038450</td>\n",
       "    </tr>\n",
       "  </tbody>\n",
       "</table>\n",
       "<p>5 rows × 200 columns</p>\n",
       "</div>"
      ],
      "text/plain": [
       "                                         0         1         2         3    \\\n",
       "Toy Story (1995)                    0.026804  0.052404  0.019479  0.003361   \n",
       "Jumanji (1995)                      0.010512  0.010537  0.025846  0.000882   \n",
       "Grumpier Old Men (1995)             0.038827  0.073948 -0.004930 -0.001323   \n",
       "Waiting to Exhale (1995)            0.136327  0.077169 -0.020606 -0.002103   \n",
       "Father of the Bride Part II (1995)  0.038644  0.084084  0.000456  0.000029   \n",
       "\n",
       "                                         4         5         6         7    \\\n",
       "Toy Story (1995)                    0.004004 -0.024907  0.115090  0.012749   \n",
       "Jumanji (1995)                      0.013254 -0.001140  0.068154  0.012675   \n",
       "Grumpier Old Men (1995)             0.031760  0.002476 -0.003612 -0.001630   \n",
       "Waiting to Exhale (1995)            0.101073  0.012071 -0.012106 -0.002062   \n",
       "Father of the Bride Part II (1995) -0.013619  0.000075  0.013468 -0.000218   \n",
       "\n",
       "                                         8         9    ...       190  \\\n",
       "Toy Story (1995)                   -0.001627  0.103939  ...  0.015711   \n",
       "Jumanji (1995)                      0.006184  0.050531  ...  0.012587   \n",
       "Grumpier Old Men (1995)            -0.000253  0.000645  ...  0.002476   \n",
       "Waiting to Exhale (1995)           -0.004896 -0.002583  ... -0.001156   \n",
       "Father of the Bride Part II (1995)  0.008462  0.013971  ...  0.011215   \n",
       "\n",
       "                                         191       192       193       194  \\\n",
       "Toy Story (1995)                   -0.036389 -0.083300 -0.109280  0.090503   \n",
       "Jumanji (1995)                      0.012203  0.002653  0.081598  0.008884   \n",
       "Grumpier Old Men (1995)             0.003581  0.000435 -0.007534 -0.007311   \n",
       "Waiting to Exhale (1995)           -0.023063 -0.010050  0.001625  0.047620   \n",
       "Father of the Bride Part II (1995)  0.008193 -0.015889 -0.003665 -0.005078   \n",
       "\n",
       "                                         195       196       197       198  \\\n",
       "Toy Story (1995)                   -0.094835  0.008426  0.066666 -0.007300   \n",
       "Jumanji (1995)                      0.064113  0.001018 -0.039501  0.026265   \n",
       "Grumpier Old Men (1995)            -0.007432  0.003852 -0.002291  0.012141   \n",
       "Waiting to Exhale (1995)            0.054509 -0.066109  0.024686 -0.001895   \n",
       "Father of the Bride Part II (1995)  0.024281 -0.025536  0.004729 -0.032317   \n",
       "\n",
       "                                         199  \n",
       "Toy Story (1995)                   -0.053103  \n",
       "Jumanji (1995)                     -0.016436  \n",
       "Grumpier Old Men (1995)            -0.000764  \n",
       "Waiting to Exhale (1995)           -0.114583  \n",
       "Father of the Bride Part II (1995) -0.038450  \n",
       "\n",
       "[5 rows x 200 columns]"
      ]
     },
     "execution_count": 64,
     "metadata": {},
     "output_type": "execute_result"
    }
   ],
   "source": [
    "#content\n",
    "latent_matrix_1_df.head()"
   ]
  },
  {
   "cell_type": "code",
   "execution_count": 65,
   "metadata": {},
   "outputs": [
    {
     "data": {
      "text/html": [
       "<div>\n",
       "<style scoped>\n",
       "    .dataframe tbody tr th:only-of-type {\n",
       "        vertical-align: middle;\n",
       "    }\n",
       "\n",
       "    .dataframe tbody tr th {\n",
       "        vertical-align: top;\n",
       "    }\n",
       "\n",
       "    .dataframe thead th {\n",
       "        text-align: right;\n",
       "    }\n",
       "</style>\n",
       "<table border=\"1\" class=\"dataframe\">\n",
       "  <thead>\n",
       "    <tr style=\"text-align: right;\">\n",
       "      <th></th>\n",
       "      <th>0</th>\n",
       "      <th>1</th>\n",
       "      <th>2</th>\n",
       "      <th>3</th>\n",
       "      <th>4</th>\n",
       "      <th>5</th>\n",
       "      <th>6</th>\n",
       "      <th>7</th>\n",
       "      <th>8</th>\n",
       "      <th>9</th>\n",
       "      <th>...</th>\n",
       "      <th>190</th>\n",
       "      <th>191</th>\n",
       "      <th>192</th>\n",
       "      <th>193</th>\n",
       "      <th>194</th>\n",
       "      <th>195</th>\n",
       "      <th>196</th>\n",
       "      <th>197</th>\n",
       "      <th>198</th>\n",
       "      <th>199</th>\n",
       "    </tr>\n",
       "  </thead>\n",
       "  <tbody>\n",
       "    <tr>\n",
       "      <th>Toy Story (1995)</th>\n",
       "      <td>566.399546</td>\n",
       "      <td>-17.220076</td>\n",
       "      <td>136.259578</td>\n",
       "      <td>67.741281</td>\n",
       "      <td>45.164237</td>\n",
       "      <td>161.268919</td>\n",
       "      <td>-68.499228</td>\n",
       "      <td>69.552754</td>\n",
       "      <td>-59.055855</td>\n",
       "      <td>13.974029</td>\n",
       "      <td>...</td>\n",
       "      <td>16.512649</td>\n",
       "      <td>-4.843152</td>\n",
       "      <td>6.669052</td>\n",
       "      <td>-0.779871</td>\n",
       "      <td>-18.980923</td>\n",
       "      <td>21.023263</td>\n",
       "      <td>0.891510</td>\n",
       "      <td>15.433073</td>\n",
       "      <td>-8.524399</td>\n",
       "      <td>-14.453619</td>\n",
       "    </tr>\n",
       "    <tr>\n",
       "      <th>Jumanji (1995)</th>\n",
       "      <td>255.369685</td>\n",
       "      <td>-16.704519</td>\n",
       "      <td>159.472499</td>\n",
       "      <td>-47.617594</td>\n",
       "      <td>-39.035040</td>\n",
       "      <td>12.521876</td>\n",
       "      <td>-66.950993</td>\n",
       "      <td>48.913895</td>\n",
       "      <td>20.515439</td>\n",
       "      <td>-24.841956</td>\n",
       "      <td>...</td>\n",
       "      <td>-4.500999</td>\n",
       "      <td>-22.284613</td>\n",
       "      <td>-9.002948</td>\n",
       "      <td>-0.831263</td>\n",
       "      <td>-10.339549</td>\n",
       "      <td>15.324825</td>\n",
       "      <td>0.419668</td>\n",
       "      <td>-12.569100</td>\n",
       "      <td>-8.742529</td>\n",
       "      <td>11.287692</td>\n",
       "    </tr>\n",
       "    <tr>\n",
       "      <th>Grumpier Old Men (1995)</th>\n",
       "      <td>106.031137</td>\n",
       "      <td>-54.822451</td>\n",
       "      <td>65.715181</td>\n",
       "      <td>-44.950351</td>\n",
       "      <td>-30.607987</td>\n",
       "      <td>2.076419</td>\n",
       "      <td>-2.861147</td>\n",
       "      <td>1.221394</td>\n",
       "      <td>-23.294532</td>\n",
       "      <td>-27.719149</td>\n",
       "      <td>...</td>\n",
       "      <td>4.566256</td>\n",
       "      <td>-4.398842</td>\n",
       "      <td>-0.949584</td>\n",
       "      <td>-2.135381</td>\n",
       "      <td>-1.608208</td>\n",
       "      <td>-8.646127</td>\n",
       "      <td>7.287759</td>\n",
       "      <td>-7.619567</td>\n",
       "      <td>0.393108</td>\n",
       "      <td>3.797095</td>\n",
       "    </tr>\n",
       "    <tr>\n",
       "      <th>Waiting to Exhale (1995)</th>\n",
       "      <td>26.135429</td>\n",
       "      <td>-29.596888</td>\n",
       "      <td>19.780741</td>\n",
       "      <td>-8.418184</td>\n",
       "      <td>-27.544151</td>\n",
       "      <td>2.002038</td>\n",
       "      <td>-0.067364</td>\n",
       "      <td>3.995107</td>\n",
       "      <td>-6.372647</td>\n",
       "      <td>3.986386</td>\n",
       "      <td>...</td>\n",
       "      <td>0.103367</td>\n",
       "      <td>-1.668414</td>\n",
       "      <td>1.527367</td>\n",
       "      <td>0.080241</td>\n",
       "      <td>0.314449</td>\n",
       "      <td>1.010630</td>\n",
       "      <td>3.066065</td>\n",
       "      <td>1.543228</td>\n",
       "      <td>-2.860979</td>\n",
       "      <td>-0.633311</td>\n",
       "    </tr>\n",
       "    <tr>\n",
       "      <th>Father of the Bride Part II (1995)</th>\n",
       "      <td>91.102740</td>\n",
       "      <td>-49.069112</td>\n",
       "      <td>73.892052</td>\n",
       "      <td>-39.855792</td>\n",
       "      <td>-48.151897</td>\n",
       "      <td>17.060573</td>\n",
       "      <td>-10.835707</td>\n",
       "      <td>9.440390</td>\n",
       "      <td>-15.996412</td>\n",
       "      <td>-17.218632</td>\n",
       "      <td>...</td>\n",
       "      <td>0.311000</td>\n",
       "      <td>-0.844028</td>\n",
       "      <td>-3.101216</td>\n",
       "      <td>2.657270</td>\n",
       "      <td>5.890341</td>\n",
       "      <td>-3.194910</td>\n",
       "      <td>2.619693</td>\n",
       "      <td>-0.234144</td>\n",
       "      <td>2.056650</td>\n",
       "      <td>7.458734</td>\n",
       "    </tr>\n",
       "  </tbody>\n",
       "</table>\n",
       "<p>5 rows × 200 columns</p>\n",
       "</div>"
      ],
      "text/plain": [
       "                                           0          1           2    \\\n",
       "Toy Story (1995)                    566.399546 -17.220076  136.259578   \n",
       "Jumanji (1995)                      255.369685 -16.704519  159.472499   \n",
       "Grumpier Old Men (1995)             106.031137 -54.822451   65.715181   \n",
       "Waiting to Exhale (1995)             26.135429 -29.596888   19.780741   \n",
       "Father of the Bride Part II (1995)   91.102740 -49.069112   73.892052   \n",
       "\n",
       "                                          3          4           5    \\\n",
       "Toy Story (1995)                    67.741281  45.164237  161.268919   \n",
       "Jumanji (1995)                     -47.617594 -39.035040   12.521876   \n",
       "Grumpier Old Men (1995)            -44.950351 -30.607987    2.076419   \n",
       "Waiting to Exhale (1995)            -8.418184 -27.544151    2.002038   \n",
       "Father of the Bride Part II (1995) -39.855792 -48.151897   17.060573   \n",
       "\n",
       "                                          6          7          8    \\\n",
       "Toy Story (1995)                   -68.499228  69.552754 -59.055855   \n",
       "Jumanji (1995)                     -66.950993  48.913895  20.515439   \n",
       "Grumpier Old Men (1995)             -2.861147   1.221394 -23.294532   \n",
       "Waiting to Exhale (1995)            -0.067364   3.995107  -6.372647   \n",
       "Father of the Bride Part II (1995) -10.835707   9.440390 -15.996412   \n",
       "\n",
       "                                          9    ...        190        191  \\\n",
       "Toy Story (1995)                    13.974029  ...  16.512649  -4.843152   \n",
       "Jumanji (1995)                     -24.841956  ...  -4.500999 -22.284613   \n",
       "Grumpier Old Men (1995)            -27.719149  ...   4.566256  -4.398842   \n",
       "Waiting to Exhale (1995)             3.986386  ...   0.103367  -1.668414   \n",
       "Father of the Bride Part II (1995) -17.218632  ...   0.311000  -0.844028   \n",
       "\n",
       "                                         192       193        194        195  \\\n",
       "Toy Story (1995)                    6.669052 -0.779871 -18.980923  21.023263   \n",
       "Jumanji (1995)                     -9.002948 -0.831263 -10.339549  15.324825   \n",
       "Grumpier Old Men (1995)            -0.949584 -2.135381  -1.608208  -8.646127   \n",
       "Waiting to Exhale (1995)            1.527367  0.080241   0.314449   1.010630   \n",
       "Father of the Bride Part II (1995) -3.101216  2.657270   5.890341  -3.194910   \n",
       "\n",
       "                                         196        197       198        199  \n",
       "Toy Story (1995)                    0.891510  15.433073 -8.524399 -14.453619  \n",
       "Jumanji (1995)                      0.419668 -12.569100 -8.742529  11.287692  \n",
       "Grumpier Old Men (1995)             7.287759  -7.619567  0.393108   3.797095  \n",
       "Waiting to Exhale (1995)            3.066065   1.543228 -2.860979  -0.633311  \n",
       "Father of the Bride Part II (1995)  2.619693  -0.234144  2.056650   7.458734  \n",
       "\n",
       "[5 rows x 200 columns]"
      ]
     },
     "execution_count": 65,
     "metadata": {},
     "output_type": "execute_result"
    }
   ],
   "source": [
    "#collaborative filtering\n",
    "latent_matrix_2_df.head()"
   ]
  },
  {
   "cell_type": "code",
   "execution_count": 63,
   "metadata": {},
   "outputs": [
    {
     "data": {
      "text/html": [
       "<div>\n",
       "<style scoped>\n",
       "    .dataframe tbody tr th:only-of-type {\n",
       "        vertical-align: middle;\n",
       "    }\n",
       "\n",
       "    .dataframe tbody tr th {\n",
       "        vertical-align: top;\n",
       "    }\n",
       "\n",
       "    .dataframe thead th {\n",
       "        text-align: right;\n",
       "    }\n",
       "</style>\n",
       "<table border=\"1\" class=\"dataframe\">\n",
       "  <thead>\n",
       "    <tr style=\"text-align: right;\">\n",
       "      <th></th>\n",
       "      <th>content</th>\n",
       "      <th>collaborative</th>\n",
       "      <th>hybrid</th>\n",
       "    </tr>\n",
       "  </thead>\n",
       "  <tbody>\n",
       "    <tr>\n",
       "      <th>Toy Story 2 (1999)</th>\n",
       "      <td>0.962374</td>\n",
       "      <td>0.734823</td>\n",
       "      <td>0.848598</td>\n",
       "    </tr>\n",
       "    <tr>\n",
       "      <th>Bug's Life, A (1998)</th>\n",
       "      <td>0.910252</td>\n",
       "      <td>0.644826</td>\n",
       "      <td>0.777539</td>\n",
       "    </tr>\n",
       "    <tr>\n",
       "      <th>Monsters, Inc. (2001)</th>\n",
       "      <td>0.889638</td>\n",
       "      <td>0.614286</td>\n",
       "      <td>0.751962</td>\n",
       "    </tr>\n",
       "    <tr>\n",
       "      <th>Finding Nemo (2003)</th>\n",
       "      <td>0.876921</td>\n",
       "      <td>0.591839</td>\n",
       "      <td>0.734380</td>\n",
       "    </tr>\n",
       "    <tr>\n",
       "      <th>Ice Age (2002)</th>\n",
       "      <td>0.875763</td>\n",
       "      <td>0.483547</td>\n",
       "      <td>0.679655</td>\n",
       "    </tr>\n",
       "    <tr>\n",
       "      <th>Incredibles, The (2004)</th>\n",
       "      <td>0.792249</td>\n",
       "      <td>0.560427</td>\n",
       "      <td>0.676338</td>\n",
       "    </tr>\n",
       "    <tr>\n",
       "      <th>Ratatouille (2007)</th>\n",
       "      <td>0.902268</td>\n",
       "      <td>0.426463</td>\n",
       "      <td>0.664365</td>\n",
       "    </tr>\n",
       "    <tr>\n",
       "      <th>Antz (1998)</th>\n",
       "      <td>0.742150</td>\n",
       "      <td>0.568349</td>\n",
       "      <td>0.655250</td>\n",
       "    </tr>\n",
       "    <tr>\n",
       "      <th>Toy Story 3 (2010)</th>\n",
       "      <td>0.871585</td>\n",
       "      <td>0.409324</td>\n",
       "      <td>0.640454</td>\n",
       "    </tr>\n",
       "    <tr>\n",
       "      <th>Shrek (2001)</th>\n",
       "      <td>0.655759</td>\n",
       "      <td>0.619832</td>\n",
       "      <td>0.637795</td>\n",
       "    </tr>\n",
       "    <tr>\n",
       "      <th>Cars (2006)</th>\n",
       "      <td>0.740633</td>\n",
       "      <td>0.414486</td>\n",
       "      <td>0.577560</td>\n",
       "    </tr>\n",
       "  </tbody>\n",
       "</table>\n",
       "</div>"
      ],
      "text/plain": [
       "                          content  collaborative    hybrid\n",
       "Toy Story 2 (1999)       0.962374       0.734823  0.848598\n",
       "Bug's Life, A (1998)     0.910252       0.644826  0.777539\n",
       "Monsters, Inc. (2001)    0.889638       0.614286  0.751962\n",
       "Finding Nemo (2003)      0.876921       0.591839  0.734380\n",
       "Ice Age (2002)           0.875763       0.483547  0.679655\n",
       "Incredibles, The (2004)  0.792249       0.560427  0.676338\n",
       "Ratatouille (2007)       0.902268       0.426463  0.664365\n",
       "Antz (1998)              0.742150       0.568349  0.655250\n",
       "Toy Story 3 (2010)       0.871585       0.409324  0.640454\n",
       "Shrek (2001)             0.655759       0.619832  0.637795\n",
       "Cars (2006)              0.740633       0.414486  0.577560"
      ]
     },
     "execution_count": 63,
     "metadata": {},
     "output_type": "execute_result"
    }
   ],
   "source": [
    "from sklearn.metrics.pairwise import cosine_similarity\n",
    "#take the latent vectors for a selected movie from both content\n",
    "#and collaborative matrixes\n",
    "a_1 = np.array(latent_matrix_1_df.loc['Toy Story (1995)']).reshape(1, -1)\n",
    "a_2 = np.array(latent_matrix_2_df.loc['Toy Story (1995)']).reshape(1, -1)\n",
    "\n",
    "#calculate the similarity of this movie with the others in the list\n",
    "score_1 = cosine_similarity(latent_matrix_1_df, a_1).reshape(-1)\n",
    "score_2 = cosine_similarity(latent_matrix_2_df, a_2).reshape(-1)\n",
    "\n",
    "#an average measure of both content and collaborative\n",
    "hybrid = ((score_1 + score_2)/ 2.0)\n",
    "\n",
    "#form a data frame of similar movies\n",
    "dictDF = {'content' : score_1, 'collaborative': score_2, 'hybrid': hybrid}\n",
    "similar = pd.DataFrame(dictDF, index = latent_matrix_1_df.index)\n",
    "\n",
    "#sort it on the basis of either: content, collaborative or hybrid,\n",
    "#here : content\n",
    "similar.sort_values('hybrid', ascending = False, inplace = True)\n",
    "\n",
    "similar[1:].head(11)"
   ]
  },
  {
   "cell_type": "code",
   "execution_count": 66,
   "metadata": {},
   "outputs": [],
   "source": [
    "#svd does well for sparse matrix"
   ]
  },
  {
   "cell_type": "code",
   "execution_count": null,
   "metadata": {},
   "outputs": [],
   "source": [
    "#we could use the similarity information we gained from item-item collaborative filtering to compute a rating \n",
    "#prediction r[i][u], for an item (i) by a user (u) where the rating is missing.  Namely\n",
    "#by taking a weighted average on the rating values of the top K nearest neighbors of item (i)"
   ]
  },
  {
   "cell_type": "code",
   "execution_count": null,
   "metadata": {},
   "outputs": [],
   "source": [
    "#surprise library \n",
    "#http://surpriselib.com"
   ]
  }
 ],
 "metadata": {
  "kernelspec": {
   "display_name": "Python 3",
   "language": "python",
   "name": "python3"
  },
  "language_info": {
   "codemirror_mode": {
    "name": "ipython",
    "version": 3
   },
   "file_extension": ".py",
   "mimetype": "text/x-python",
   "name": "python",
   "nbconvert_exporter": "python",
   "pygments_lexer": "ipython3",
   "version": "3.8.5"
  }
 },
 "nbformat": 4,
 "nbformat_minor": 4
}
